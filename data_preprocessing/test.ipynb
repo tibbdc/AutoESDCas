{
 "cells": [
  {
   "cell_type": "code",
   "execution_count": null,
   "id": "aec06a43",
   "metadata": {},
   "outputs": [],
   "source": [
    "import pandas as pd\n",
    "from Bio import SeqIO \n",
    "import os,sys\n",
    "import warnings   \n",
    "warnings.filterwarnings('ignore')\n",
    "import configparser\n",
    "from Bio.Seq import Seq\n",
    "from Bio.SeqRecord import SeqRecord\n",
    "import argparse   \n",
    "import json\n",
    "from os.path import exists,splitext,dirname,splitext,basename,realpath,abspath\n",
    "from Bio import SeqIO"
   ]
  },
  {
   "cell_type": "code",
   "execution_count": null,
   "id": "af73498b",
   "metadata": {},
   "outputs": [],
   "source": [
    "# test\n"
   ]
  }
 ],
 "metadata": {
  "kernelspec": {
   "display_name": "Python 3 (ipykernel)",
   "language": "python",
   "name": "python3"
  },
  "language_info": {
   "codemirror_mode": {
    "name": "ipython",
    "version": 3
   },
   "file_extension": ".py",
   "mimetype": "text/x-python",
   "name": "python",
   "nbconvert_exporter": "python",
   "pygments_lexer": "ipython3",
   "version": "3.8.15"
  },
  "vscode": {
   "interpreter": {
    "hash": "0ce5cabab122b3db5c05bbe8f8ff7fd3aa7bcecef663505ad3dd84494ebc9b75"
   }
  }
 },
 "nbformat": 4,
 "nbformat_minor": 5
}
