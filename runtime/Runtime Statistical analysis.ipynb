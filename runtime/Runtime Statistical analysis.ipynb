{
 "cells": [
  {
   "cell_type": "code",
   "execution_count": null,
   "metadata": {},
   "outputs": [],
   "source": [
    "def revComp(seq):\n",
    "    complementSeq=seq.translate(str.maketrans('ACGTacgtRYMKrymkVBHDvbhd', 'TGCAtgcaYRKMyrkmBVDHbvdh'))\n",
    "    revcompSeq = complementSeq[::-1]\n",
    "    return revcompSeq\n",
    "\n",
    "# 以二进制模式读取质粒gb文件\n",
    "with open('Plasmid.gb', 'rb') as file:  \n",
    "    binary_data = file.read()\n",
    "\n",
    "# 以UTF-8编码格式写入新的gb文件\n",
    "with open('plasmid_utf8.gb', 'w', encoding='utf-8') as file:\n",
    "    file.write(binary_data.decode('utf-8'))\n",
    "\n",
    "import csv\n",
    "# 输入txt文件路径\n",
    "txt_file_path = 'input.txt'\n",
    "# 输出csv文件路径\n",
    "csv_file_path = 'output.csv'        \n",
    "# 打开txt文件进行读取    \n",
    "with open('/home/yanghe/program/GCF_000005845.2_ASM584v2_feature_table.txt', 'r') as txt_file:\n",
    "    # 读取每一行文本内容\n",
    "    lines = txt_file.readlines()\n",
    "\n",
    "# 打开csv文件进行写入\n",
    "with open(\"12.csv\", 'w', newline='') as csv_file:  \n",
    "    # 创建CSV写入器对象\n",
    "    csv_writer = csv.writer(csv_file)\n",
    "\n",
    "    # 遍历文本行，写入CSV文件\n",
    "    for line in lines:\n",
    "        # 根据文本内容的分隔符（假设是空格或制表符），拆分成CSV行\n",
    "        csv_row = line.strip().split()  # 用split('\\t')来处理制表符分隔的情况\n",
    "        \n",
    "\n",
    "        # 将CSV行写入CSV文件\n",
    "        csv_writer.writerow(csv_row)\n",
    "\n",
    "print(f'Transformation from {txt_file_path} to {csv_file_path} is complete.')"
   ]
  },
  {
   "cell_type": "code",
   "execution_count": 1,
   "metadata": {},
   "outputs": [],
   "source": [
    "from utils import cp_tool\n",
    "\n",
    "import os\n",
    "from os.path import exists,splitext,dirname,splitext,basename,realpath,abspath\n",
    "\n",
    "genome_name_list =  ['Escherichia_coli','Corynebacterium_glutamicum', 'Bacillus_subtilis', 'Salmonella_typhimurium', 'Pseudomonas_aeruginosa']\n",
    "\n",
    "origin_dir = \"/home/yanghe/program/data_preprocessing/genome_test\"\n",
    "current_dir = \"/home/yanghe/public_github/AutoESDCas/runtime\"\n",
    "\n",
    "success_file_name = \"one_plasmid_design_result.xlsx\"\n",
    "fail_file_name = \"one_plasmid_design_F_Result.xlsx\" "
   ]
  },
  {
   "cell_type": "code",
   "execution_count": null,
   "metadata": {},
   "outputs": [],
   "source": []
  }
 ],
 "metadata": {
  "kernelspec": {
   "display_name": "crispr_hr_editor",
   "language": "python",
   "name": "python3"
  },
  "language_info": {
   "codemirror_mode": {
    "name": "ipython",
    "version": 3
   },
   "file_extension": ".py",
   "mimetype": "text/x-python",
   "name": "python",
   "nbconvert_exporter": "python",
   "pygments_lexer": "ipython3",
   "version": "3.8.15"
  }
 },
 "nbformat": 4,
 "nbformat_minor": 2
}
